{
 "cells": [
  {
   "cell_type": "code",
   "metadata": {
    "collapsed": true
   },
   "source": [
    "fun CharTransform.first2other(str: String): CharTransform.Result = transform(str, 0, 1)\n",
    "fun CharTransform.other2first(str: String): CharTransform.Result = transform(str, 1, 0)\n",
    "fun CharTransform.debugStringTransform(str: String): Unit = println(\"$str : ${other2first(str)} <--> ${first2other(str)} | $str : ${other2first(str).value} <--> ${first2other(str).value}\")\n",
    "\n",
    "\n",
    "fun debug01() {\n",
    "    val charTransform = listOf(\n",
    "        \"\"\" git \"\"\",\n",
    "        \"\"\" tig \"\"\",\n",
    "    ).let { CharTransform(it) }\n",
    "    charTransform.debugStringTransform(\"git\")\n",
    "    charTransform.debugStringTransform(\"tig\")\n",
    "}\n",
    "\n",
    "debug01()\n"
   ],
   "outputs": [],
   "execution_count": null
  }
 ],
 "metadata": {
  "kernelspec": {
   "display_name": "Kotlin",
   "language": "kotlin",
   "name": "kotlin"
  },
  "language_info": {
   "name": "kotlin",
   "mimetype": "text/x-kotlin",
   "file_extension": ".kt",
   "pygments_lexer": "kotlin",
   "codemirror_mode": "text/x-kotlin",
   "nbconvert_exporter": ""
  },
  "ktnbPluginMetadata": {
   "projectDependencies": [
    "appInit.plus.tool.char_transform_debug"
   ],
   "projectLibraries": false
  }
 },
 "nbformat": 4,
 "nbformat_minor": 0
}
